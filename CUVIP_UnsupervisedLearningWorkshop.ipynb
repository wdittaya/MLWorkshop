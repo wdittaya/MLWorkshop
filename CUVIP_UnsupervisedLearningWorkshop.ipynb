{
  "nbformat": 4,
  "nbformat_minor": 0,
  "metadata": {
    "colab": {
      "provenance": [],
      "toc_visible": true,
      "include_colab_link": true
    },
    "kernelspec": {
      "name": "python3",
      "display_name": "Python 3"
    },
    "language_info": {
      "name": "python"
    }
  },
  "cells": [
    {
      "cell_type": "markdown",
      "metadata": {
        "id": "view-in-github",
        "colab_type": "text"
      },
      "source": [
        "<a href=\"https://colab.research.google.com/github/wdittaya/MLWorkshop/blob/main/CUVIP_UnsupervisedLearningWorkshop.ipynb\" target=\"_parent\"><img src=\"https://colab.research.google.com/assets/colab-badge.svg\" alt=\"Open In Colab\"/></a>"
      ]
    },
    {
      "cell_type": "markdown",
      "source": [
        "# ทบทวนเบื้องต้น"
      ],
      "metadata": {
        "id": "W5Hu31Dlh-dE"
      }
    },
    {
      "cell_type": "markdown",
      "source": [
        "## Clustering - การจัดกลุ่ม\n",
        "\n",
        "เป็น unsupervised learning ที่จัดข้อมูลที่ **คล้าย** กันไว้ด้วยกัน และพยายามแยกข้อมูลที่ **ต่าง** กันออกจากกัน\n",
        "\n",
        "โดยทั่วไปแล้ว เราจะต้องเปลี่ยนข้อมูลให้อยู่ในรูปแบบที่คำนวณความคล้ายได้ง่าย ซึ่งมักจะเป็นเวกเตอร์ของตัวเลข อย่างไรก็ตาม มาตรวัดใดๆ ที่สามารถวัดความคล้ายหรือระยะทางได้ สามารถนำมาใช้ได้ทั้งสิ้น\n",
        "\n",
        "clustering algorithm แต่ละตัวจะ sensitive กับลักษณะของข้อมูลที่ต่างกัน เช่น k-means มักจะสร้าง cluster ที่มีลักษณะกระจุกตัวใกล้ศูนย์กลาง ในขณะที่ DBSCAN จะผูก sample ที่อยู่ใกล้กันไว้ด้วยกันโดยไม่มีรูปร่างของ cluster ที่แน่นอน การเลือกใช้ clustering algorithm ส่วนหนึ่งจึงควรพิจารณารูปแบบการกระจายตัวของข้อมูลด้วย แต่หากข้อมูลมี feature มาก (dimension มาก) การพิจารณารูปแบบการกระจายตัวของข้อมูลจะทำได้ยาก แนวทางหนึ่งอาจจะเป็นการ ลองทุก algorithm แล้วเลือกวิธีที่ได้ผลดีที่สุด\n",
        "\n",
        "![clustering](https://scikit-learn.org/stable/_images/sphx_glr_plot_cluster_comparison_001.png)\n",
        "\n",
        "การประเมินประสิทธิภาพของ clustering ทำได้สองรูปแบบใหญ่ๆ\n",
        "1. หากมี ground truth label สามารถเปรียบเทียบข้อมูลในกลุ่ม กับ ground truth label ได้ เช่น ใช้มาตรวัดจำพวก homogeneity\n",
        "2. หากไม่มี grouth truth label สามารถใช้มาตรวัดเกี่ยวกับระยะห่าง ความคล้าย ภายในและภายนอก cluster ได้ เช่น ใช้มาตรวัดจำพวก Silhouette Coefficient, DB-Index\n",
        "\n",
        "\n",
        "Ref: https://scikit-learn.org/stable/modules/clustering.html\n"
      ],
      "metadata": {
        "id": "wJ8vxqzKiAfT"
      }
    },
    {
      "cell_type": "markdown",
      "source": [
        "# โจทย์\n",
        "\n",
        "1. ต้องการจัดกลุ่มยาและเวชภัณฑ์\n",
        "2. ต้องการจัดกลุ่มสถานพยาบาลตามลักษณะการสั่งยาและเวชภัณฑ์"
      ],
      "metadata": {
        "id": "CG8p5lBIaXJi"
      }
    },
    {
      "cell_type": "markdown",
      "source": [
        "# ข้อมูลของเรา\n",
        "\n",
        "- การสั่งยาและเวชภัณฑ์ในอังกฤษ (PDPI)\n",
        "- ตารางรหัสสารเคมี (CHEM SUBS)\n",
        "\n",
        "Ref: https://digital.nhs.uk/data-and-information/publications/statistical/practice-level-prescribing-data/december-2019\n",
        "\n",
        "หากสนใจข้อมูลเกี่ยวกับระบบสุขภาพอังกฤษ (ก่อนปี 2022) อ่านเพิ่มเติมได้ที่ https://kb.hsri.or.th/dspace/bitstream/handle/11228/2705/p056-066.pdf"
      ],
      "metadata": {
        "id": "oU1XOX34Oegn"
      }
    },
    {
      "cell_type": "markdown",
      "source": [
        "## Practice prescribing data\n",
        "\n",
        "- SHA - Strategic Health Authority แสดงรหัสเขตงานกำกับดูแลการให้บริการ\n",
        "- PCT - Primary Care Trust แสดงรหัสเขตการให้บริการสุขภาพ\n",
        "- PRACTICE - รหัสสถานพยาบาล\n",
        "- BNF CODE - รหัสยาและเวชภัณฑ์\n",
        "- BNF NAME - ชื่อยาและเวชภัณฑ์\n",
        "- ITEMS - จำนวนครั้งในการสั่งในเดือน\n",
        "- NIC - ราคาตามบัญชียาหลัก\n",
        "- ACT COST - ราคาที่เรียกเก็บ\n",
        "- QUANTITY - ปริมาณยาและเวชภัฑณ์ เช่น 20 เม็ด\n",
        "- PERIOD - ปีและเดือนของข้อมูล"
      ],
      "metadata": {
        "id": "oi39XKSuS_SB"
      }
    },
    {
      "cell_type": "markdown",
      "source": [
        "## BNF code structure\n",
        "\n",
        "This is the BNF code for the drug:\n",
        "\n",
        "- characters 1 and 2 show the BNF chapter\n",
        "- 3 and 4 show the BNF section\n",
        "- 5 and 6 show the BNF paragraph\n",
        "- 7 shows the BNF sub-paragraph\n",
        "- 8 and 9 show the chemical substance\n",
        "- 10 and 11 show the product\n",
        "- 12 and13 show the strength and formulation\n",
        "- 14 and 15 show the equivalent\n",
        "\n",
        "Ref: https://digital.nhs.uk/data-and-information/areas-of-interest/prescribing/practice-level-prescribing-in-england-a-summary/practice-level-prescribing-glossary-of-terms"
      ],
      "metadata": {
        "id": "bEZxNjnEj643"
      }
    },
    {
      "cell_type": "markdown",
      "source": [
        "## Download ข้อมูล"
      ],
      "metadata": {
        "id": "2cHJHZqCefga"
      }
    },
    {
      "cell_type": "code",
      "source": [
        "PDPI_file = 'https://files.digital.nhs.uk/82/4A18B0/T201912PDPI%20BNFT.csv'\n",
        "CHEM_file = 'https://files.digital.nhs.uk/5A/F7A49D/T201912CHEM%20SUBS.csv'"
      ],
      "metadata": {
        "id": "FQqd73atg2jk"
      },
      "execution_count": null,
      "outputs": []
    },
    {
      "cell_type": "code",
      "source": [
        "import pandas as pd\n",
        "pdpi_df = pd.read_csv(PDPI_file, header=0)\n",
        "chem_df = pd.read_csv(CHEM_file, header=0)"
      ],
      "metadata": {
        "id": "caG4TWsyyYlW"
      },
      "execution_count": null,
      "outputs": []
    },
    {
      "cell_type": "code",
      "source": [
        "pdpi_df.head()"
      ],
      "metadata": {
        "id": "J2qli7eDzk6V"
      },
      "execution_count": null,
      "outputs": []
    },
    {
      "cell_type": "code",
      "source": [
        "chem_df.head()"
      ],
      "metadata": {
        "id": "MY7aYz2n0Y65"
      },
      "execution_count": null,
      "outputs": []
    },
    {
      "cell_type": "code",
      "source": [
        "pdpi_df.info()"
      ],
      "metadata": {
        "id": "qFiFbzh3cT1c"
      },
      "execution_count": null,
      "outputs": []
    },
    {
      "cell_type": "code",
      "source": [
        "chem_df.info()"
      ],
      "metadata": {
        "id": "ZaSrsGaIcV3c"
      },
      "execution_count": null,
      "outputs": []
    },
    {
      "cell_type": "markdown",
      "source": [
        "## Preprocessing\n",
        "\n",
        "- ตรวจสอบและจัดการข้อมูลที่หายไป\n",
        "- ตัดข้อมูลที่ไม่จำเป็น\n",
        "- แปลงข้อมูลให้อยู่ในรูปแบบที่ประมวลผลได้"
      ],
      "metadata": {
        "id": "QKbvEMnEaJv-"
      }
    },
    {
      "cell_type": "markdown",
      "source": [
        "### ตรวจสอบข้อมูลที่หายไป"
      ],
      "metadata": {
        "id": "cGEhH9C5cCFH"
      }
    },
    {
      "cell_type": "code",
      "source": [
        "pdpi_df.isna().sum()"
      ],
      "metadata": {
        "id": "zJ0WYqooa8IZ"
      },
      "execution_count": null,
      "outputs": []
    },
    {
      "cell_type": "code",
      "source": [
        "chem_df.isna().sum()"
      ],
      "metadata": {
        "id": "opcvO-T7a_BJ"
      },
      "execution_count": null,
      "outputs": []
    },
    {
      "cell_type": "markdown",
      "source": [
        "เราพบว่า คอลัมน์ `201912` ของ `chem_df` ไม่มีข้อมูล แต่เนื่องจาก header ของ column นี้ทำเพื่อบอกว่า นี่เป็นข้อมูลเดือน 12 ปี 2019 และเราใช้ข้อมูลเพียงเดือนเดียว ดังนั้น ข้อมูล column นี้ตัดทิ้งได้"
      ],
      "metadata": {
        "id": "FRkZ4RskbC0n"
      }
    },
    {
      "cell_type": "code",
      "source": [
        "chem_df.drop(columns=['201912'], inplace=True)"
      ],
      "metadata": {
        "id": "oTIaq_JYbT5a"
      },
      "execution_count": null,
      "outputs": []
    },
    {
      "cell_type": "markdown",
      "source": [
        "### ตัดข้อมูลที่ไม่จำเป็น"
      ],
      "metadata": {
        "id": "ttvRyBwvcGHi"
      }
    },
    {
      "cell_type": "code",
      "source": [
        "pdpi_df.describe()"
      ],
      "metadata": {
        "id": "3Ry8qy7obbPI"
      },
      "execution_count": null,
      "outputs": []
    },
    {
      "cell_type": "markdown",
      "source": [
        "ใน `pdpi_df` มี column `PERIOD` อยู่ ซึ่งมีข้อมูลเพียงค่าเดียวคือ `201912` หมายถึง ข้อมูลเดือน 12 ปี 2019\n",
        "\n",
        "ข้อมูลนี้ไม่เป็นประโยชน์ในการวิเคราะห์ของเรา จึงตัดทิ้งทั้ง column ได้"
      ],
      "metadata": {
        "id": "Mw-JwrurbX-h"
      }
    },
    {
      "cell_type": "code",
      "source": [
        "pdpi_df.drop(columns=['PERIOD'], inplace=True)"
      ],
      "metadata": {
        "id": "NkYmd7IIb4U4"
      },
      "execution_count": null,
      "outputs": []
    },
    {
      "cell_type": "markdown",
      "source": [
        "# 1. ต้องการจัดกลุ่มยาและเวชภัณฑ์"
      ],
      "metadata": {
        "id": "O-HV0FgAc4u5"
      }
    },
    {
      "cell_type": "markdown",
      "source": [
        "## 1.1 ใช้ BNF code structure\n",
        "\n",
        "จาก BNF code structure เราเห็นว่ารหัส 2, 4, 6, 7, 9 หลักแรก สามารถแทนกลุ่มของยาและเวชภัณฑ์ได้ในระดับต่างๆ อยู่แล้ว\n",
        "\n",
        "และ 9 หลักแรกนี้ คือรหัส CHEM SUB ใน `chem_df`"
      ],
      "metadata": {
        "id": "jmPlRtbTc8K0"
      }
    },
    {
      "cell_type": "code",
      "source": [
        "def get_first_two_chars(bnf_code):\n",
        "  if isinstance(bnf_code, str) and len(bnf_code) >= 2:\n",
        "    return bnf_code[:2]\n",
        "  return None\n",
        "\n",
        "chem_df['BNF_Prefix'] = chem_df['CHEM SUB'].apply(get_first_two_chars)\n",
        "\n",
        "prefix_counts = chem_df.groupby('BNF_Prefix')['CHEM SUB'].count()\n",
        "\n",
        "print(prefix_counts)"
      ],
      "metadata": {
        "id": "78_xX6Ulc_3G"
      },
      "execution_count": null,
      "outputs": []
    },
    {
      "cell_type": "code",
      "source": [
        "prefix_counts.plot(kind='bar')"
      ],
      "metadata": {
        "id": "lA7snk1qduSx"
      },
      "execution_count": null,
      "outputs": []
    },
    {
      "cell_type": "markdown",
      "source": [
        "เราจะลองใช้ข้อมูลนี้เป็น ground truth สำหรับประเมินการจัดกลุ่มของข้อมูล"
      ],
      "metadata": {
        "id": "QTcGd4S5gA1N"
      }
    },
    {
      "cell_type": "markdown",
      "source": [
        "## 1.2 ใช้ข้อความชื่อสารเคมี"
      ],
      "metadata": {
        "id": "VDADxweUmIzO"
      }
    },
    {
      "cell_type": "code",
      "source": [
        "chem_df.head()"
      ],
      "metadata": {
        "id": "AzG9atcUmMKf"
      },
      "execution_count": null,
      "outputs": []
    },
    {
      "cell_type": "markdown",
      "source": [
        "จากตัวอย่างจะเห็นว่า `Loperamide Hydrochloride` กับ ``Loperamide Hydrochloride & simeticone` ดูชื่อคล้ายๆ กัน ซึ่งก็น่าจะจัดกลุ่มเข้าด้วยกันได้เช่นกัน\n",
        "\n",
        "การวัดความคล้ายของข้อความสามารถใช้ Levenshtein distance ในการวัดได้ โดยจะนับจำนวนอักขระที่ต้องแก้ไข เพื่อให้ข้อความตั้งต้นกลายเป็นข้อความปลายทาง"
      ],
      "metadata": {
        "id": "X6Zd_lQbgVHi"
      }
    },
    {
      "cell_type": "code",
      "source": [
        "from IPython.display import Image\n",
        "Image(url='https://upload.wikimedia.org/wikipedia/commons/d/d1/Levenshtein_distance_animation.gif')"
      ],
      "metadata": {
        "id": "Icej6jmB6qNU"
      },
      "execution_count": null,
      "outputs": []
    },
    {
      "cell_type": "markdown",
      "source": [
        "ดังนั้น เราสามารถสร้าง distance matrix ของสารเคมีแต่ละคู่ได้"
      ],
      "metadata": {
        "id": "kP9wOkdB68u8"
      }
    },
    {
      "cell_type": "code",
      "source": [
        "!pip install leven\n",
        "\n",
        "from leven import levenshtein\n",
        "\n",
        "def levenshtein_distance_matrix(names):\n",
        "  n = len(names)\n",
        "  matrix = [[0] * n for _ in range(n)]\n",
        "  for i in range(n):\n",
        "    for j in range(i + 1, n):\n",
        "      distance = levenshtein(names[i], names[j])\n",
        "      matrix[i][j] = distance\n",
        "      matrix[j][i] = distance\n",
        "  return matrix\n",
        "\n",
        "distance_matrix = levenshtein_distance_matrix(chem_df['NAME'].tolist())\n"
      ],
      "metadata": {
        "id": "em14OTuznFln"
      },
      "execution_count": null,
      "outputs": []
    },
    {
      "cell_type": "code",
      "source": [
        "print(distance_matrix[0])"
      ],
      "metadata": {
        "id": "_-Rk32GxoN-E"
      },
      "execution_count": null,
      "outputs": []
    },
    {
      "cell_type": "code",
      "source": [
        "# prompt: Plot distribution of pairwise distance\n",
        "\n",
        "import matplotlib.pyplot as plt\n",
        "import numpy as np\n",
        "\n",
        "def plot_distance_distribution(distance_matrix):\n",
        "  \"\"\"Plots the distribution of pairwise distances from a distance matrix.\"\"\"\n",
        "\n",
        "  distances = []\n",
        "  for row in distance_matrix:\n",
        "    for distance in row:\n",
        "      distances.append(distance)\n",
        "\n",
        "  plt.hist(distances, bins=30)\n",
        "  plt.xlabel(\"Pairwise Distance\")\n",
        "  plt.ylabel(\"Frequency\")\n",
        "  plt.title(\"Distribution of Pairwise Distances\")\n",
        "  plt.show()\n",
        "\n",
        "# Assuming 'distance_matrix' is defined from the previous code snippet\n",
        "plot_distance_distribution(distance_matrix)"
      ],
      "metadata": {
        "id": "dAWRxzrn7e7i"
      },
      "execution_count": null,
      "outputs": []
    },
    {
      "cell_type": "markdown",
      "source": [
        "เนื่องจาก DBSCAN เป็น clustering algorithm ที่ใช้ระยะห่างเป็นหลักในการตัดสินใจว่าข้อมูลจะอยู่รวมกันใน cluster หรือไม่ จึงใช้ DBSCAN ในการทดลองจัดกลุ่มสารเคมี\n",
        "\n",
        "เราพบว่า ระยะห่างระหว่าง sample กระจายตัวอยู่ระหว่าง 5-35 ตัวอักษร แสดงว่า ข้อความที่เหมือนกันมากๆ จะมีตัวอักษรต่างกันไม่เกิน 5 ตัวอักษร"
      ],
      "metadata": {
        "id": "mCgYddAK7Qxj"
      }
    },
    {
      "cell_type": "code",
      "source": [
        "from sklearn.cluster import DBSCAN\n",
        "\n",
        "clustering = DBSCAN(metric='precomputed', eps=8, min_samples=3).fit(distance_matrix)\n",
        "chem_df['cluster'] = clustering.labels_"
      ],
      "metadata": {
        "id": "dLy9EmHprXZU"
      },
      "execution_count": null,
      "outputs": []
    },
    {
      "cell_type": "code",
      "source": [
        "n_clusters_ = len(set(chem_df['cluster'])) - (1 if -1 in chem_df['cluster'] else 0)\n",
        "print('Estimated number of clusters: %d' % n_clusters_)\n"
      ],
      "metadata": {
        "id": "nuuufskMq8Tf"
      },
      "execution_count": null,
      "outputs": []
    },
    {
      "cell_type": "markdown",
      "source": [
        "ดูจำนวนสารเคมีในแต่ละ cluster"
      ],
      "metadata": {
        "id": "HlYbQ6rf8pFx"
      }
    },
    {
      "cell_type": "code",
      "source": [
        "chem_df['cluster'].value_counts()"
      ],
      "metadata": {
        "id": "urHA9H8pqkxB"
      },
      "execution_count": null,
      "outputs": []
    },
    {
      "cell_type": "markdown",
      "source": [
        "เลือก cluster ที่มีจำนวนสารเคมีค่อนข้างมาก\n",
        "\n",
        "สำหรับ cluster -1 หมายถึง สารเคมีที่ไม่สามารถจัดกลุ่มได้ เนื่องจากไม่มีสารเคมีที่มีชื่อใกล้เคียงกันมากพอ"
      ],
      "metadata": {
        "id": "kmaQ6srg8u2l"
      }
    },
    {
      "cell_type": "code",
      "source": [
        "cluster_ranking = chem_df['cluster'].value_counts().index.to_list()"
      ],
      "metadata": {
        "id": "dgR3BH598zIn"
      },
      "execution_count": null,
      "outputs": []
    },
    {
      "cell_type": "code",
      "source": [
        "cluster_ranking[0]"
      ],
      "metadata": {
        "id": "FAH3qA8_9GF8"
      },
      "execution_count": null,
      "outputs": []
    },
    {
      "cell_type": "code",
      "source": [
        "chem_df[chem_df['cluster'] == cluster_ranking[0]]['NAME'].tolist()\n"
      ],
      "metadata": {
        "id": "fQNabIDtrGl0"
      },
      "execution_count": null,
      "outputs": []
    },
    {
      "cell_type": "code",
      "source": [
        "chem_df[chem_df['cluster'] == cluster_ranking[2]]['NAME'].tolist()"
      ],
      "metadata": {
        "id": "1qLDbceA9RBZ"
      },
      "execution_count": null,
      "outputs": []
    },
    {
      "cell_type": "code",
      "source": [
        "from sklearn.metrics import homogeneity_score\n",
        "homogeneity_score(chem_df['BNF_Prefix'], chem_df['cluster'])\n"
      ],
      "metadata": {
        "id": "gD0nuTkZr403"
      },
      "execution_count": null,
      "outputs": []
    },
    {
      "cell_type": "markdown",
      "source": [
        "# 2. ให้จัดกลุ่มของสถานพยาบาล โดยใช้ข้อมูลรูปแบบการสั่งยาและเวชภัณฑ์"
      ],
      "metadata": {
        "id": "wNDrz2CVjCdK"
      }
    },
    {
      "cell_type": "markdown",
      "source": [
        "หารูปแบบการแทนข้อมูลที่เหมาะสม เริ่มจาก ลองดูจำนวน BNF CODE ของแต่ละสถานพยาบาลก่อน"
      ],
      "metadata": {
        "id": "SNfJ1bP7-4BT"
      }
    },
    {
      "cell_type": "code",
      "source": [],
      "metadata": {
        "id": "GWOxOyvmG6cW"
      },
      "execution_count": null,
      "outputs": []
    },
    {
      "cell_type": "markdown",
      "source": [
        "นับจำนวนสถานพยาบาล"
      ],
      "metadata": {
        "id": "SpOsVvlk_Gf7"
      }
    },
    {
      "cell_type": "code",
      "source": [],
      "metadata": {
        "id": "RJUMsW33JcSz"
      },
      "execution_count": null,
      "outputs": []
    },
    {
      "cell_type": "code",
      "source": [],
      "metadata": {
        "id": "xyBQPNtP_TP8"
      },
      "execution_count": null,
      "outputs": []
    },
    {
      "cell_type": "markdown",
      "source": [
        "สร้าง k-mean cluster เลือกจำนวน cluster ที่เหมาะสม"
      ],
      "metadata": {
        "id": "j1QPVARbxqk1"
      }
    },
    {
      "cell_type": "code",
      "source": [],
      "metadata": {
        "id": "AHSmNl7P_tT_"
      },
      "execution_count": null,
      "outputs": []
    },
    {
      "cell_type": "markdown",
      "source": [
        "เลือกดูข้อมูลจาก cluster ที่น่าสนใจ"
      ],
      "metadata": {
        "id": "FFad9S-cx0lr"
      }
    },
    {
      "cell_type": "code",
      "source": [],
      "metadata": {
        "id": "MjCxBGQvx2lb"
      },
      "execution_count": null,
      "outputs": []
    }
  ]
}